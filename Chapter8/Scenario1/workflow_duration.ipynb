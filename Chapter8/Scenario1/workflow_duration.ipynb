{
 "cells": [
  {
   "cell_type": "code",
   "execution_count": 8,
   "outputs": [],
   "source": [
    "import pandas as pd\n",
    "from scipy.stats import chi2_contingency\n",
    "workflow_duration = pd.read_csv(\"./workflow_duration.csv\", delimiter=';')\n",
    "\n"
   ],
   "metadata": {
    "collapsed": false,
    "ExecuteTime": {
     "end_time": "2024-01-16T19:02:00.223259Z",
     "start_time": "2024-01-16T19:02:00.196385Z"
    }
   },
   "id": "2af919bd0ef886ec"
  },
  {
   "cell_type": "code",
   "execution_count": 9,
   "outputs": [
    {
     "data": {
      "text/plain": "  Total benchmark time Billable time Validation Provision Setup-and-Run  \\\n0               22m 2s           25m         8s    2m 16s       14m 42s   \n1               22m 5s           25m         6s    1m 59s        15m 8s   \n2              21m 26s           24m         8s    1m 55s       14m 29s   \n3              22m 21s           26m         7s    2m 26s       14m 43s   \n4               21m 2s           26m         5s    1m 55s       14m 11s   \n5              21m 50s           24m        12s    1m 56s       14m 55s   \n6               23m 6s           26m         8s    2m 37s       15m 35s   \n7              21m 29s           24m        17s    1m 54s       14m 58s   \n8              22m 30s           26m         5s    2m 15s       15m 11s   \n9              22m 43s           25m         7s    2m 28s       15m 36s   \n\n  Evaluation Tear down ExeTime  \n0        29s    3m 43s    9:40  \n1        37s    3m 43s   20:37  \n2        38s    3m 34s   20:10  \n3        27s    3m 31s   11:21  \n4      1m 7s    3m 29s   10:55  \n5        33s    3m 38s   10:10  \n6        29s    3m 23s   11:21  \n7        34s    3m 38s   22:55  \n8        34s    3m 41s   21:52  \n9        29s    3m 33s   18:31  ",
      "text/html": "<div>\n<style scoped>\n    .dataframe tbody tr th:only-of-type {\n        vertical-align: middle;\n    }\n\n    .dataframe tbody tr th {\n        vertical-align: top;\n    }\n\n    .dataframe thead th {\n        text-align: right;\n    }\n</style>\n<table border=\"1\" class=\"dataframe\">\n  <thead>\n    <tr style=\"text-align: right;\">\n      <th></th>\n      <th>Total benchmark time</th>\n      <th>Billable time</th>\n      <th>Validation</th>\n      <th>Provision</th>\n      <th>Setup-and-Run</th>\n      <th>Evaluation</th>\n      <th>Tear down</th>\n      <th>ExeTime</th>\n    </tr>\n  </thead>\n  <tbody>\n    <tr>\n      <th>0</th>\n      <td>22m 2s</td>\n      <td>25m</td>\n      <td>8s</td>\n      <td>2m 16s</td>\n      <td>14m 42s</td>\n      <td>29s</td>\n      <td>3m 43s</td>\n      <td>9:40</td>\n    </tr>\n    <tr>\n      <th>1</th>\n      <td>22m 5s</td>\n      <td>25m</td>\n      <td>6s</td>\n      <td>1m 59s</td>\n      <td>15m 8s</td>\n      <td>37s</td>\n      <td>3m 43s</td>\n      <td>20:37</td>\n    </tr>\n    <tr>\n      <th>2</th>\n      <td>21m 26s</td>\n      <td>24m</td>\n      <td>8s</td>\n      <td>1m 55s</td>\n      <td>14m 29s</td>\n      <td>38s</td>\n      <td>3m 34s</td>\n      <td>20:10</td>\n    </tr>\n    <tr>\n      <th>3</th>\n      <td>22m 21s</td>\n      <td>26m</td>\n      <td>7s</td>\n      <td>2m 26s</td>\n      <td>14m 43s</td>\n      <td>27s</td>\n      <td>3m 31s</td>\n      <td>11:21</td>\n    </tr>\n    <tr>\n      <th>4</th>\n      <td>21m 2s</td>\n      <td>26m</td>\n      <td>5s</td>\n      <td>1m 55s</td>\n      <td>14m 11s</td>\n      <td>1m 7s</td>\n      <td>3m 29s</td>\n      <td>10:55</td>\n    </tr>\n    <tr>\n      <th>5</th>\n      <td>21m 50s</td>\n      <td>24m</td>\n      <td>12s</td>\n      <td>1m 56s</td>\n      <td>14m 55s</td>\n      <td>33s</td>\n      <td>3m 38s</td>\n      <td>10:10</td>\n    </tr>\n    <tr>\n      <th>6</th>\n      <td>23m 6s</td>\n      <td>26m</td>\n      <td>8s</td>\n      <td>2m 37s</td>\n      <td>15m 35s</td>\n      <td>29s</td>\n      <td>3m 23s</td>\n      <td>11:21</td>\n    </tr>\n    <tr>\n      <th>7</th>\n      <td>21m 29s</td>\n      <td>24m</td>\n      <td>17s</td>\n      <td>1m 54s</td>\n      <td>14m 58s</td>\n      <td>34s</td>\n      <td>3m 38s</td>\n      <td>22:55</td>\n    </tr>\n    <tr>\n      <th>8</th>\n      <td>22m 30s</td>\n      <td>26m</td>\n      <td>5s</td>\n      <td>2m 15s</td>\n      <td>15m 11s</td>\n      <td>34s</td>\n      <td>3m 41s</td>\n      <td>21:52</td>\n    </tr>\n    <tr>\n      <th>9</th>\n      <td>22m 43s</td>\n      <td>25m</td>\n      <td>7s</td>\n      <td>2m 28s</td>\n      <td>15m 36s</td>\n      <td>29s</td>\n      <td>3m 33s</td>\n      <td>18:31</td>\n    </tr>\n  </tbody>\n</table>\n</div>"
     },
     "execution_count": 9,
     "metadata": {},
     "output_type": "execute_result"
    }
   ],
   "source": [
    "workflow_duration"
   ],
   "metadata": {
    "collapsed": false,
    "ExecuteTime": {
     "end_time": "2024-01-16T19:02:00.543892Z",
     "start_time": "2024-01-16T19:02:00.505337Z"
    }
   },
   "id": "cd94b51af1f7104a"
  },
  {
   "cell_type": "code",
   "execution_count": 10,
   "id": "initial_id",
   "metadata": {
    "collapsed": true,
    "ExecuteTime": {
     "end_time": "2024-01-16T19:02:00.737428Z",
     "start_time": "2024-01-16T19:02:00.687766Z"
    }
   },
   "outputs": [],
   "source": [
    "import re\n",
    "\n",
    "def time_to_seconds(time_str):\n",
    "    if pd.isna(time_str):\n",
    "        return None\n",
    "    minutes = re.search(r'(\\d+)m', time_str)\n",
    "    seconds = re.search(r'(\\d+)s', time_str)\n",
    "    total_seconds = 0\n",
    "    if minutes:\n",
    "        total_seconds += int(minutes.group(1)) * 60\n",
    "    if seconds:\n",
    "        total_seconds += int(seconds.group(1))\n",
    "        \n",
    "    return total_seconds\n",
    "\n",
    "\n",
    "for workflow in ['Validation', 'Provision', 'Setup-and-Run', 'Evaluation', 'Tear down']:\n",
    "    workflow_duration[workflow + ' [s]'] = workflow_duration[workflow].apply(time_to_seconds)\n"
   ]
  },
  {
   "cell_type": "code",
   "execution_count": 11,
   "outputs": [
    {
     "data": {
      "text/plain": "Validation [s]         8.3\nProvision [s]        130.1\nSetup-and-Run [s]    896.8\nEvaluation [s]        35.7\nTear down [s]        215.3\ndtype: float64"
     },
     "execution_count": 11,
     "metadata": {},
     "output_type": "execute_result"
    }
   ],
   "source": [
    "ave_time_pro_workflow = workflow_duration[['Validation [s]', 'Provision [s]', 'Setup-and-Run [s]', 'Evaluation [s]', 'Tear down [s]']].mean()\n",
    "ave_time_pro_workflow"
   ],
   "metadata": {
    "collapsed": false,
    "ExecuteTime": {
     "end_time": "2024-01-16T19:02:01.062930Z",
     "start_time": "2024-01-16T19:02:00.980672Z"
    }
   },
   "id": "a3403951f52e19a5"
  },
  {
   "cell_type": "code",
   "execution_count": 12,
   "outputs": [
    {
     "data": {
      "text/plain": "       Validation [s]  Provision [s]  Setup-and-Run [s]  Evaluation [s]  \\\ncount       10.000000      10.000000          10.000000       10.000000   \nmean         8.300000     130.100000         896.800000       35.700000   \nstd          3.653005      16.305759          27.095715       11.595497   \nmin          5.000000     114.000000         851.000000       27.000000   \n25%          6.250000     115.250000         882.250000       29.000000   \n50%          7.500000     127.000000         896.500000       33.500000   \n75%          8.000000     143.500000         910.250000       36.250000   \nmax         17.000000     157.000000         936.000000       67.000000   \n\n       Tear down [s]  \ncount      10.000000  \nmean      215.300000  \nstd         6.515793  \nmin       203.000000  \n25%       211.500000  \n50%       216.000000  \n75%       220.250000  \nmax       223.000000  ",
      "text/html": "<div>\n<style scoped>\n    .dataframe tbody tr th:only-of-type {\n        vertical-align: middle;\n    }\n\n    .dataframe tbody tr th {\n        vertical-align: top;\n    }\n\n    .dataframe thead th {\n        text-align: right;\n    }\n</style>\n<table border=\"1\" class=\"dataframe\">\n  <thead>\n    <tr style=\"text-align: right;\">\n      <th></th>\n      <th>Validation [s]</th>\n      <th>Provision [s]</th>\n      <th>Setup-and-Run [s]</th>\n      <th>Evaluation [s]</th>\n      <th>Tear down [s]</th>\n    </tr>\n  </thead>\n  <tbody>\n    <tr>\n      <th>count</th>\n      <td>10.000000</td>\n      <td>10.000000</td>\n      <td>10.000000</td>\n      <td>10.000000</td>\n      <td>10.000000</td>\n    </tr>\n    <tr>\n      <th>mean</th>\n      <td>8.300000</td>\n      <td>130.100000</td>\n      <td>896.800000</td>\n      <td>35.700000</td>\n      <td>215.300000</td>\n    </tr>\n    <tr>\n      <th>std</th>\n      <td>3.653005</td>\n      <td>16.305759</td>\n      <td>27.095715</td>\n      <td>11.595497</td>\n      <td>6.515793</td>\n    </tr>\n    <tr>\n      <th>min</th>\n      <td>5.000000</td>\n      <td>114.000000</td>\n      <td>851.000000</td>\n      <td>27.000000</td>\n      <td>203.000000</td>\n    </tr>\n    <tr>\n      <th>25%</th>\n      <td>6.250000</td>\n      <td>115.250000</td>\n      <td>882.250000</td>\n      <td>29.000000</td>\n      <td>211.500000</td>\n    </tr>\n    <tr>\n      <th>50%</th>\n      <td>7.500000</td>\n      <td>127.000000</td>\n      <td>896.500000</td>\n      <td>33.500000</td>\n      <td>216.000000</td>\n    </tr>\n    <tr>\n      <th>75%</th>\n      <td>8.000000</td>\n      <td>143.500000</td>\n      <td>910.250000</td>\n      <td>36.250000</td>\n      <td>220.250000</td>\n    </tr>\n    <tr>\n      <th>max</th>\n      <td>17.000000</td>\n      <td>157.000000</td>\n      <td>936.000000</td>\n      <td>67.000000</td>\n      <td>223.000000</td>\n    </tr>\n  </tbody>\n</table>\n</div>"
     },
     "execution_count": 12,
     "metadata": {},
     "output_type": "execute_result"
    }
   ],
   "source": [
    "statistics = workflow_duration[['Validation [s]', 'Provision [s]', 'Setup-and-Run [s]', 'Evaluation [s]', 'Tear down [s]']].describe()\n",
    "statistics\n"
   ],
   "metadata": {
    "collapsed": false,
    "ExecuteTime": {
     "end_time": "2024-01-16T19:02:01.446330Z",
     "start_time": "2024-01-16T19:02:01.428478Z"
    }
   },
   "id": "5e0e57f0b6d4941b"
  },
  {
   "cell_type": "code",
   "execution_count": 13,
   "outputs": [
    {
     "data": {
      "text/plain": "-0.05567523751784484"
     },
     "execution_count": 13,
     "metadata": {},
     "output_type": "execute_result"
    }
   ],
   "source": [
    "def execution_time_to_minutes(time_str):\n",
    "    hours, minutes = map(int, time_str.split(':'))\n",
    "    return hours * 60 + minutes\n",
    "\n",
    "\n",
    "workflow_duration['Total bench time'] = workflow_duration['Total benchmark time'].apply(time_to_seconds)\n",
    "workflow_duration['ExeTime (m.p.m)'] = workflow_duration['ExeTime'].apply(execution_time_to_minutes) #minutes past midnight\n",
    "correlation = workflow_duration[['Total bench time', 'ExeTime (m.p.m)']].corr()\n",
    "correlation.iloc[0, 1]\n"
   ],
   "metadata": {
    "collapsed": false,
    "ExecuteTime": {
     "end_time": "2024-01-16T19:02:01.813937Z",
     "start_time": "2024-01-16T19:02:01.708804Z"
    }
   },
   "id": "1821751d1e1cb86c"
  },
  {
   "cell_type": "code",
   "execution_count": 14,
   "outputs": [
    {
     "data": {
      "text/plain": "(0.6666666666666666,\n 0.7165313105737892,\n BenchDurBin  long  medium  short\n ExeTimeBin                      \n 08:01-16:00     2       2      1\n 16:01-23:59     2       1      2,\n array([[2. , 1.5, 1.5],\n        [2. , 1.5, 1.5]]))"
     },
     "execution_count": 14,
     "metadata": {},
     "output_type": "execute_result"
    }
   ],
   "source": [
    "def bin_bench_dur(duration_seconds):\n",
    "    if duration_seconds <= quantiles[0]:\n",
    "        return 'short'\n",
    "    elif quantiles[0] < duration_seconds <= quantiles[1]:\n",
    "        return 'medium'\n",
    "    else:\n",
    "        return 'long'\n",
    "\n",
    "def bin_exe_time(time_minutes):\n",
    "    if 0 <= time_minutes <= 8 * 60:      \n",
    "        return '00:00-08:00'\n",
    "    elif 8 * 60 < time_minutes <= 16 * 60:  \n",
    "        return '08:01-16:00'\n",
    "    else:                               \n",
    "        return '16:01-23:59'\n",
    "\n",
    "workflow_duration['ExeTimeBin'] = workflow_duration['ExeTime (m.p.m)'].apply(bin_exe_time)\n",
    "quantiles = workflow_duration['Total bench time'].quantile([0.33, 0.66]).tolist()\n",
    "workflow_duration['BenchDurBin'] = workflow_duration['Total bench time'].apply(bin_bench_dur)\n",
    "contingency_table = pd.crosstab(workflow_duration['ExeTimeBin'], workflow_duration['BenchDurBin'])\n",
    "chi2, p, dof, expected = chi2_contingency(contingency_table)\n",
    "chi2, p, contingency_table, expected\n"
   ],
   "metadata": {
    "collapsed": false,
    "ExecuteTime": {
     "end_time": "2024-01-16T19:02:02.256111Z",
     "start_time": "2024-01-16T19:02:02.190237Z"
    }
   },
   "id": "c184bef6366bd774"
  },
  {
   "cell_type": "code",
   "execution_count": 14,
   "outputs": [],
   "source": [],
   "metadata": {
    "collapsed": false,
    "ExecuteTime": {
     "end_time": "2024-01-16T19:02:02.392765Z",
     "start_time": "2024-01-16T19:02:02.374241Z"
    }
   },
   "id": "7d7173c9805e483"
  },
  {
   "cell_type": "code",
   "execution_count": null,
   "outputs": [],
   "source": [],
   "metadata": {
    "collapsed": false
   },
   "id": "3ed272ad44ca7650"
  }
 ],
 "metadata": {
  "kernelspec": {
   "display_name": "Python 3",
   "language": "python",
   "name": "python3"
  },
  "language_info": {
   "codemirror_mode": {
    "name": "ipython",
    "version": 2
   },
   "file_extension": ".py",
   "mimetype": "text/x-python",
   "name": "python",
   "nbconvert_exporter": "python",
   "pygments_lexer": "ipython2",
   "version": "2.7.6"
  }
 },
 "nbformat": 4,
 "nbformat_minor": 5
}
