{
 "cells": [
  {
   "cell_type": "code",
   "execution_count": 1,
   "id": "initial_id",
   "metadata": {
    "collapsed": true,
    "ExecuteTime": {
     "end_time": "2024-01-16T16:55:10.012570Z",
     "start_time": "2024-01-16T16:55:06.738210Z"
    }
   },
   "outputs": [
    {
     "data": {
      "text/plain": "  Execution time Kafka version  Throughput [MB/s]\n0           9:40        K2.2.0                289\n1          20:37        K2.2.0                341\n2          11:21        K2.3.0                329\n3          10:55        K2.2.0                315\n4          10:10        K2.3.0                339",
      "text/html": "<div>\n<style scoped>\n    .dataframe tbody tr th:only-of-type {\n        vertical-align: middle;\n    }\n\n    .dataframe tbody tr th {\n        vertical-align: top;\n    }\n\n    .dataframe thead th {\n        text-align: right;\n    }\n</style>\n<table border=\"1\" class=\"dataframe\">\n  <thead>\n    <tr style=\"text-align: right;\">\n      <th></th>\n      <th>Execution time</th>\n      <th>Kafka version</th>\n      <th>Throughput [MB/s]</th>\n    </tr>\n  </thead>\n  <tbody>\n    <tr>\n      <th>0</th>\n      <td>9:40</td>\n      <td>K2.2.0</td>\n      <td>289</td>\n    </tr>\n    <tr>\n      <th>1</th>\n      <td>20:37</td>\n      <td>K2.2.0</td>\n      <td>341</td>\n    </tr>\n    <tr>\n      <th>2</th>\n      <td>11:21</td>\n      <td>K2.3.0</td>\n      <td>329</td>\n    </tr>\n    <tr>\n      <th>3</th>\n      <td>10:55</td>\n      <td>K2.2.0</td>\n      <td>315</td>\n    </tr>\n    <tr>\n      <th>4</th>\n      <td>10:10</td>\n      <td>K2.3.0</td>\n      <td>339</td>\n    </tr>\n  </tbody>\n</table>\n</div>"
     },
     "execution_count": 1,
     "metadata": {},
     "output_type": "execute_result"
    }
   ],
   "source": [
    "import pandas as pd\n",
    "df = pd.read_csv(\"./exetime_version_throughput.csv\", sep=';')\n",
    "df.head()"
   ]
  },
  {
   "cell_type": "code",
   "execution_count": 2,
   "outputs": [
    {
     "data": {
      "text/plain": "(314.92857142857144, 35.709219420877176, 224, 359)"
     },
     "execution_count": 2,
     "metadata": {},
     "output_type": "execute_result"
    }
   ],
   "source": [
    "# ave throughput and std, min, max\n",
    "ave_thr = df['Throughput [MB/s]'].mean()\n",
    "sd_thr = df['Throughput [MB/s]'].std()\n",
    "min_thr = df['Throughput [MB/s]'].min()\n",
    "max_thr = df['Throughput [MB/s]'].max()\n",
    "ave_thr, sd_thr, min_thr, max_thr"
   ],
   "metadata": {
    "collapsed": false,
    "ExecuteTime": {
     "end_time": "2024-01-16T16:55:10.026515Z",
     "start_time": "2024-01-16T16:55:10.016324Z"
    }
   },
   "id": "77b78a14d776d64b"
  },
  {
   "cell_type": "code",
   "execution_count": 3,
   "outputs": [
    {
     "data": {
      "text/plain": "-0.3192450762854659"
     },
     "execution_count": 3,
     "metadata": {},
     "output_type": "execute_result"
    }
   ],
   "source": [
    "# correlation between kafka version and measured throughput\n",
    "df['Version cat'] = df['Kafka version'].astype('category').cat.codes\n",
    "correlation = df[['Version cat', 'Throughput [MB/s]']].corr().iloc[0, 1]\n",
    "correlation"
   ],
   "metadata": {
    "collapsed": false,
    "ExecuteTime": {
     "end_time": "2024-01-16T16:55:10.082740Z",
     "start_time": "2024-01-16T16:55:10.023808Z"
    }
   },
   "id": "13856afc026b8910"
  },
  {
   "cell_type": "code",
   "execution_count": 4,
   "outputs": [
    {
     "data": {
      "text/plain": "Kafka version\nK2.0.0         NaN\nK2.0.1         NaN\nK2.1.0         NaN\nK2.2.0    0.897016\nK2.2.1    0.914189\nK2.3.0   -0.014917\ndtype: float64"
     },
     "execution_count": 4,
     "metadata": {},
     "output_type": "execute_result"
    }
   ],
   "source": [
    "# corr between exe time and throughput within given version\n",
    "df['Exe time minutes'] = pd.to_datetime(df['Execution time'], format='%H:%M').dt.hour * 60 + pd.to_datetime(\n",
    "    df['Execution time'], format='%H:%M').dt.minute\n",
    "correlations = df.groupby('Kafka version').apply(lambda x: x[['Exe time minutes', 'Throughput [MB/s]']].corr().iloc[0, 1])\n",
    "correlations"
   ],
   "metadata": {
    "collapsed": false,
    "ExecuteTime": {
     "end_time": "2024-01-16T16:55:10.177940Z",
     "start_time": "2024-01-16T16:55:10.047949Z"
    }
   },
   "id": "ab996b612ce81153"
  },
  {
   "cell_type": "code",
   "execution_count": null,
   "outputs": [],
   "source": [],
   "metadata": {
    "collapsed": false
   },
   "id": "ef6548011b59c9ac"
  }
 ],
 "metadata": {
  "kernelspec": {
   "display_name": "Python 3",
   "language": "python",
   "name": "python3"
  },
  "language_info": {
   "codemirror_mode": {
    "name": "ipython",
    "version": 2
   },
   "file_extension": ".py",
   "mimetype": "text/x-python",
   "name": "python",
   "nbconvert_exporter": "python",
   "pygments_lexer": "ipython2",
   "version": "2.7.6"
  }
 },
 "nbformat": 4,
 "nbformat_minor": 5
}
