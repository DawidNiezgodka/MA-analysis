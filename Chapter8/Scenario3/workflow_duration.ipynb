{
 "cells": [
  {
   "cell_type": "code",
   "execution_count": 5,
   "outputs": [],
   "source": [
    "import csv\n",
    "import pandas as pd\n",
    "def convert_csv_time_values(input_file_path, output_file_path):\n",
    "    time_columns = ['Validate', 'Provision', 'Snr', 'Tear down', 'Evaluate']\n",
    "    with open(input_file_path, 'r') as input_file, open(output_file_path, 'w', newline='') as output_file:\n",
    "        reader = csv.reader(input_file, delimiter=';')\n",
    "        writer = csv.writer(output_file, delimiter=';')\n",
    "        headers = next(reader)\n",
    "        writer.writerow(headers)\n",
    "        time_indices = [headers.index(col) for col in headers if col in time_columns]\n",
    "\n",
    "        for row in reader:\n",
    "            for index in time_indices:\n",
    "                time_parts = row[index].split(' ')\n",
    "                total_seconds = 0\n",
    "                for part in time_parts:\n",
    "                    if 'm' in part:\n",
    "                        total_seconds += int(part[:-1]) * 60\n",
    "                    elif 's' in part:\n",
    "                        total_seconds += int(part[:-1])\n",
    "                row[index] = str(total_seconds)\n",
    "            writer.writerow(row)\n"
   ],
   "metadata": {
    "collapsed": false,
    "ExecuteTime": {
     "end_time": "2024-01-16T18:20:22.722774Z",
     "start_time": "2024-01-16T18:20:20.712112Z"
    }
   },
   "id": "49753c0f2a5cc6d6"
  },
  {
   "cell_type": "code",
   "execution_count": 6,
   "outputs": [],
   "source": [
    "input_file_path = './workflow_duration.csv'\n",
    "output_file_path = './workflow_dur_sec.csv'\n",
    "convert_csv_time_values(input_file_path, output_file_path)\n"
   ],
   "metadata": {
    "collapsed": false,
    "ExecuteTime": {
     "end_time": "2024-01-16T18:20:24.007576Z",
     "start_time": "2024-01-16T18:20:23.998981Z"
    }
   },
   "id": "2568bd47d81d507"
  },
  {
   "cell_type": "code",
   "execution_count": 7,
   "outputs": [],
   "source": [
    "def split_csv_to_dataframes(csv_file_path):\n",
    "    df = pd.read_csv(csv_file_path, delimiter=';')\n",
    "    mongo_df = df[df['DB'] == 'mongo']\n",
    "    mysql_df = df[df['DB'] == 'mysql']\n",
    "\n",
    "    return mongo_df, mysql_df\n",
    "\n",
    "csv_file_path = './workflow_dur_sec.csv'\n",
    "mongo_df, mysql_df = split_csv_to_dataframes(csv_file_path)\n",
    "\n"
   ],
   "metadata": {
    "collapsed": false,
    "ExecuteTime": {
     "end_time": "2024-01-16T18:20:24.804552Z",
     "start_time": "2024-01-16T18:20:24.791445Z"
    }
   },
   "id": "540a7233c83115b1"
  },
  {
   "cell_type": "code",
   "execution_count": 8,
   "outputs": [
    {
     "data": {
      "text/plain": "    ID     DB  Validate  Provision  Snr  Tear down  Evaluate\n0    1  mongo         7        125  288        139        46\n1    2  mongo         8        146  258        120        38\n2    3  mongo         6        134  256        126        30\n3    4  mongo        10        315  276        137        34\n4    5  mongo         4        113  293        123        41\n5    6  mongo         6        112  283        124        33\n7    8  mongo         8        113  284        128        40\n8    9  mongo         5        145  277        110        30\n9   10  mongo         7        143  252        138        29\n12  13  mongo         4        281  228        136        28\n13  14  mongo         5        151  298        123        40\n16  17  mongo         8        113  275        124        29\n17  18  mongo        10        132  249        143        29\n18  19  mongo         8        136  265        120        35\n22  23  mongo         4        140  294        124        32\n23  24  mongo         9        135  237        120        28\n26  27  mongo         6        124  262        123        45\n27  28  mongo         7        149  291        139        27\n29  30  mongo         9        156  261        135        28\n30  31  mongo         5        158  259        132        32\n31  32  mongo         6        139  285        219        34",
      "text/html": "<div>\n<style scoped>\n    .dataframe tbody tr th:only-of-type {\n        vertical-align: middle;\n    }\n\n    .dataframe tbody tr th {\n        vertical-align: top;\n    }\n\n    .dataframe thead th {\n        text-align: right;\n    }\n</style>\n<table border=\"1\" class=\"dataframe\">\n  <thead>\n    <tr style=\"text-align: right;\">\n      <th></th>\n      <th>ID</th>\n      <th>DB</th>\n      <th>Validate</th>\n      <th>Provision</th>\n      <th>Snr</th>\n      <th>Tear down</th>\n      <th>Evaluate</th>\n    </tr>\n  </thead>\n  <tbody>\n    <tr>\n      <th>0</th>\n      <td>1</td>\n      <td>mongo</td>\n      <td>7</td>\n      <td>125</td>\n      <td>288</td>\n      <td>139</td>\n      <td>46</td>\n    </tr>\n    <tr>\n      <th>1</th>\n      <td>2</td>\n      <td>mongo</td>\n      <td>8</td>\n      <td>146</td>\n      <td>258</td>\n      <td>120</td>\n      <td>38</td>\n    </tr>\n    <tr>\n      <th>2</th>\n      <td>3</td>\n      <td>mongo</td>\n      <td>6</td>\n      <td>134</td>\n      <td>256</td>\n      <td>126</td>\n      <td>30</td>\n    </tr>\n    <tr>\n      <th>3</th>\n      <td>4</td>\n      <td>mongo</td>\n      <td>10</td>\n      <td>315</td>\n      <td>276</td>\n      <td>137</td>\n      <td>34</td>\n    </tr>\n    <tr>\n      <th>4</th>\n      <td>5</td>\n      <td>mongo</td>\n      <td>4</td>\n      <td>113</td>\n      <td>293</td>\n      <td>123</td>\n      <td>41</td>\n    </tr>\n    <tr>\n      <th>5</th>\n      <td>6</td>\n      <td>mongo</td>\n      <td>6</td>\n      <td>112</td>\n      <td>283</td>\n      <td>124</td>\n      <td>33</td>\n    </tr>\n    <tr>\n      <th>7</th>\n      <td>8</td>\n      <td>mongo</td>\n      <td>8</td>\n      <td>113</td>\n      <td>284</td>\n      <td>128</td>\n      <td>40</td>\n    </tr>\n    <tr>\n      <th>8</th>\n      <td>9</td>\n      <td>mongo</td>\n      <td>5</td>\n      <td>145</td>\n      <td>277</td>\n      <td>110</td>\n      <td>30</td>\n    </tr>\n    <tr>\n      <th>9</th>\n      <td>10</td>\n      <td>mongo</td>\n      <td>7</td>\n      <td>143</td>\n      <td>252</td>\n      <td>138</td>\n      <td>29</td>\n    </tr>\n    <tr>\n      <th>12</th>\n      <td>13</td>\n      <td>mongo</td>\n      <td>4</td>\n      <td>281</td>\n      <td>228</td>\n      <td>136</td>\n      <td>28</td>\n    </tr>\n    <tr>\n      <th>13</th>\n      <td>14</td>\n      <td>mongo</td>\n      <td>5</td>\n      <td>151</td>\n      <td>298</td>\n      <td>123</td>\n      <td>40</td>\n    </tr>\n    <tr>\n      <th>16</th>\n      <td>17</td>\n      <td>mongo</td>\n      <td>8</td>\n      <td>113</td>\n      <td>275</td>\n      <td>124</td>\n      <td>29</td>\n    </tr>\n    <tr>\n      <th>17</th>\n      <td>18</td>\n      <td>mongo</td>\n      <td>10</td>\n      <td>132</td>\n      <td>249</td>\n      <td>143</td>\n      <td>29</td>\n    </tr>\n    <tr>\n      <th>18</th>\n      <td>19</td>\n      <td>mongo</td>\n      <td>8</td>\n      <td>136</td>\n      <td>265</td>\n      <td>120</td>\n      <td>35</td>\n    </tr>\n    <tr>\n      <th>22</th>\n      <td>23</td>\n      <td>mongo</td>\n      <td>4</td>\n      <td>140</td>\n      <td>294</td>\n      <td>124</td>\n      <td>32</td>\n    </tr>\n    <tr>\n      <th>23</th>\n      <td>24</td>\n      <td>mongo</td>\n      <td>9</td>\n      <td>135</td>\n      <td>237</td>\n      <td>120</td>\n      <td>28</td>\n    </tr>\n    <tr>\n      <th>26</th>\n      <td>27</td>\n      <td>mongo</td>\n      <td>6</td>\n      <td>124</td>\n      <td>262</td>\n      <td>123</td>\n      <td>45</td>\n    </tr>\n    <tr>\n      <th>27</th>\n      <td>28</td>\n      <td>mongo</td>\n      <td>7</td>\n      <td>149</td>\n      <td>291</td>\n      <td>139</td>\n      <td>27</td>\n    </tr>\n    <tr>\n      <th>29</th>\n      <td>30</td>\n      <td>mongo</td>\n      <td>9</td>\n      <td>156</td>\n      <td>261</td>\n      <td>135</td>\n      <td>28</td>\n    </tr>\n    <tr>\n      <th>30</th>\n      <td>31</td>\n      <td>mongo</td>\n      <td>5</td>\n      <td>158</td>\n      <td>259</td>\n      <td>132</td>\n      <td>32</td>\n    </tr>\n    <tr>\n      <th>31</th>\n      <td>32</td>\n      <td>mongo</td>\n      <td>6</td>\n      <td>139</td>\n      <td>285</td>\n      <td>219</td>\n      <td>34</td>\n    </tr>\n  </tbody>\n</table>\n</div>"
     },
     "execution_count": 8,
     "metadata": {},
     "output_type": "execute_result"
    }
   ],
   "source": [
    "mongo_df"
   ],
   "metadata": {
    "collapsed": false,
    "ExecuteTime": {
     "end_time": "2024-01-16T18:20:29.137781Z",
     "start_time": "2024-01-16T18:20:29.124245Z"
    }
   },
   "id": "62a207004bb00cb8"
  },
  {
   "cell_type": "code",
   "execution_count": 9,
   "outputs": [
    {
     "data": {
      "text/plain": "    ID     DB  Validate  Provision  Snr  Tear down  Evaluate\n6    7  mysql         5        112  425        115        29\n10  11  mysql         5        130  346        214        37\n11  12  mysql         7        151  340        127        34\n14  15  mysql         9        155  363        222        36\n15  16  mysql         6        112  366        119        35\n19  20  mysql         8        172  419        121        37\n20  21  mysql         7        141  304        137        35\n21  22  mysql         8        135  309        129        29\n24  25  mysql        10        150  313        125        28\n25  26  mysql         8        163  346        126        34\n28  29  mysql         8        113  345        130        41\n32  33  mysql         5        119  355        121        43",
      "text/html": "<div>\n<style scoped>\n    .dataframe tbody tr th:only-of-type {\n        vertical-align: middle;\n    }\n\n    .dataframe tbody tr th {\n        vertical-align: top;\n    }\n\n    .dataframe thead th {\n        text-align: right;\n    }\n</style>\n<table border=\"1\" class=\"dataframe\">\n  <thead>\n    <tr style=\"text-align: right;\">\n      <th></th>\n      <th>ID</th>\n      <th>DB</th>\n      <th>Validate</th>\n      <th>Provision</th>\n      <th>Snr</th>\n      <th>Tear down</th>\n      <th>Evaluate</th>\n    </tr>\n  </thead>\n  <tbody>\n    <tr>\n      <th>6</th>\n      <td>7</td>\n      <td>mysql</td>\n      <td>5</td>\n      <td>112</td>\n      <td>425</td>\n      <td>115</td>\n      <td>29</td>\n    </tr>\n    <tr>\n      <th>10</th>\n      <td>11</td>\n      <td>mysql</td>\n      <td>5</td>\n      <td>130</td>\n      <td>346</td>\n      <td>214</td>\n      <td>37</td>\n    </tr>\n    <tr>\n      <th>11</th>\n      <td>12</td>\n      <td>mysql</td>\n      <td>7</td>\n      <td>151</td>\n      <td>340</td>\n      <td>127</td>\n      <td>34</td>\n    </tr>\n    <tr>\n      <th>14</th>\n      <td>15</td>\n      <td>mysql</td>\n      <td>9</td>\n      <td>155</td>\n      <td>363</td>\n      <td>222</td>\n      <td>36</td>\n    </tr>\n    <tr>\n      <th>15</th>\n      <td>16</td>\n      <td>mysql</td>\n      <td>6</td>\n      <td>112</td>\n      <td>366</td>\n      <td>119</td>\n      <td>35</td>\n    </tr>\n    <tr>\n      <th>19</th>\n      <td>20</td>\n      <td>mysql</td>\n      <td>8</td>\n      <td>172</td>\n      <td>419</td>\n      <td>121</td>\n      <td>37</td>\n    </tr>\n    <tr>\n      <th>20</th>\n      <td>21</td>\n      <td>mysql</td>\n      <td>7</td>\n      <td>141</td>\n      <td>304</td>\n      <td>137</td>\n      <td>35</td>\n    </tr>\n    <tr>\n      <th>21</th>\n      <td>22</td>\n      <td>mysql</td>\n      <td>8</td>\n      <td>135</td>\n      <td>309</td>\n      <td>129</td>\n      <td>29</td>\n    </tr>\n    <tr>\n      <th>24</th>\n      <td>25</td>\n      <td>mysql</td>\n      <td>10</td>\n      <td>150</td>\n      <td>313</td>\n      <td>125</td>\n      <td>28</td>\n    </tr>\n    <tr>\n      <th>25</th>\n      <td>26</td>\n      <td>mysql</td>\n      <td>8</td>\n      <td>163</td>\n      <td>346</td>\n      <td>126</td>\n      <td>34</td>\n    </tr>\n    <tr>\n      <th>28</th>\n      <td>29</td>\n      <td>mysql</td>\n      <td>8</td>\n      <td>113</td>\n      <td>345</td>\n      <td>130</td>\n      <td>41</td>\n    </tr>\n    <tr>\n      <th>32</th>\n      <td>33</td>\n      <td>mysql</td>\n      <td>5</td>\n      <td>119</td>\n      <td>355</td>\n      <td>121</td>\n      <td>43</td>\n    </tr>\n  </tbody>\n</table>\n</div>"
     },
     "execution_count": 9,
     "metadata": {},
     "output_type": "execute_result"
    }
   ],
   "source": [
    "mysql_df"
   ],
   "metadata": {
    "collapsed": false,
    "ExecuteTime": {
     "end_time": "2024-01-16T18:20:34.370425Z",
     "start_time": "2024-01-16T18:20:34.356190Z"
    }
   },
   "id": "e98483f437201427"
  },
  {
   "cell_type": "code",
   "execution_count": 10,
   "outputs": [
    {
     "data": {
      "text/plain": "({'Validate': {'mean': 6.761904761904762, 'std': 1.894855189843327},\n  'Provision': {'mean': 150.47619047619048, 'std': 51.30654836141196},\n  'Snr': {'mean': 270.04761904761904, 'std': 19.497374670647815},\n  'Tear down': {'mean': 132.52380952380952, 'std': 21.53048779665488},\n  'Evaluate': {'mean': 33.714285714285715, 'std': 5.80640040940045}},\n {'Validate': {'mean': 7.166666666666667, 'std': 1.6422453217986943},\n  'Provision': {'mean': 137.75, 'std': 20.89421407514965},\n  'Snr': {'mean': 352.5833333333333, 'std': 38.232442989818175},\n  'Tear down': {'mean': 140.5, 'std': 36.68663368188871},\n  'Evaluate': {'mean': 34.833333333333336, 'std': 4.58918359412718}})"
     },
     "execution_count": 10,
     "metadata": {},
     "output_type": "execute_result"
    }
   ],
   "source": [
    "def calculate_statistics(df):\n",
    "    columns = ['Validate', 'Provision', 'Snr', 'Tear down', 'Evaluate']\n",
    "    statistics = {}\n",
    "    for col in columns:\n",
    "        mean = df[col].mean()\n",
    "        std = df[col].std()\n",
    "        statistics[col] = {'mean': mean, 'std': std}\n",
    "    return statistics\n",
    "\n",
    "mongo_stats = calculate_statistics(mongo_df)\n",
    "mysql_stats = calculate_statistics(mysql_df)\n",
    "\n",
    "mongo_stats, mysql_stats"
   ],
   "metadata": {
    "collapsed": false,
    "ExecuteTime": {
     "end_time": "2024-01-16T18:35:27.748827Z",
     "start_time": "2024-01-16T18:35:27.728781Z"
    }
   },
   "id": "5fc29ce4b03d70a"
  },
  {
   "cell_type": "code",
   "execution_count": null,
   "outputs": [],
   "source": [],
   "metadata": {
    "collapsed": false
   },
   "id": "f16ee8edb8cf4988"
  }
 ],
 "metadata": {
  "kernelspec": {
   "display_name": "Python 3",
   "language": "python",
   "name": "python3"
  },
  "language_info": {
   "codemirror_mode": {
    "name": "ipython",
    "version": 2
   },
   "file_extension": ".py",
   "mimetype": "text/x-python",
   "name": "python",
   "nbconvert_exporter": "python",
   "pygments_lexer": "ipython2",
   "version": "2.7.6"
  }
 },
 "nbformat": 4,
 "nbformat_minor": 5
}
