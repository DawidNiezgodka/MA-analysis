{
 "cells": [
  {
   "cell_type": "code",
   "execution_count": 4,
   "id": "initial_id",
   "metadata": {
    "collapsed": true,
    "ExecuteTime": {
     "end_time": "2024-01-15T20:03:21.031100Z",
     "start_time": "2024-01-15T20:03:21.019955Z"
    }
   },
   "outputs": [
    {
     "name": "stdout",
     "output_type": "stream",
     "text": [
      "Data successfully saved to ./results.json\n"
     ]
    }
   ],
   "source": [
    "import json\n",
    "\n",
    "def map_exe_time(file_path, output_file):\n",
    "    try:\n",
    "        with open(file_path, 'r') as file:\n",
    "            data = json.load(file)\n",
    "            data = data.get('entries', None)\n",
    "        res = {}\n",
    "        for bench_type in data:\n",
    "            benchs = data.get(bench_type, None)\n",
    "            if isinstance(benchs, list):\n",
    "                res[bench_type] = {}\n",
    "                for run in benchs:\n",
    "                    if \"commit\" in run and \"timestamp\" in run[\"commit\"] and \"metrics\" in run:\n",
    "                        timestamp = run[\"commit\"][\"timestamp\"]\n",
    "                        time_str = timestamp.split(\"T\")[1].split(\":\")[:2]\n",
    "                        metrics = run['metrics']\n",
    "                        hh_mm = \":\".join(time_str)\n",
    "                        res[bench_type][hh_mm] = metrics\n",
    "\n",
    "        with open(output_file, 'w') as outfile:\n",
    "            json.dump(res, outfile, indent=4)\n",
    "\n",
    "    except Exception as e:\n",
    "        return f\"Error occurred: {e}\"\n",
    "\n",
    "output_file = \"./results.json\"\n",
    "file_path = \"./scheduled_runs.json\"\n",
    "result_message = map_exe_time(file_path, output_file)\n",
    "print(result_message)\n"
   ]
  },
  {
   "cell_type": "code",
   "execution_count": null,
   "outputs": [],
   "source": [],
   "metadata": {
    "collapsed": false
   },
   "id": "e9a5c7d8ed4f511b"
  }
 ],
 "metadata": {
  "kernelspec": {
   "display_name": "Python 3",
   "language": "python",
   "name": "python3"
  },
  "language_info": {
   "codemirror_mode": {
    "name": "ipython",
    "version": 2
   },
   "file_extension": ".py",
   "mimetype": "text/x-python",
   "name": "python",
   "nbconvert_exporter": "python",
   "pygments_lexer": "ipython2",
   "version": "2.7.6"
  }
 },
 "nbformat": 4,
 "nbformat_minor": 5
}
