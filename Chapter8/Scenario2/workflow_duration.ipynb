{
 "cells": [
  {
   "cell_type": "code",
   "execution_count": 1,
   "outputs": [
    {
     "data": {
      "text/plain": "  Total time Billable time Validation Provision Setup-and-Run Evaluation  \\\n0    23m 51s           28m         8s    2m 30s       17m 28s        30s   \n1    26m 39s           30m         7s    2m 28s       19m 45s        37s   \n2    17m 47s           22m        10s    2m 34s        9m 59s        35s   \n3    17m 24s           23m         4s    2m 18s        9m 14s        36s   \n4    15m 34s           20m         9s    2m 56s        7m 46s        29s   \n\n  Tear-down   Time  \n0    2m 20s  19:22  \n1    2m 49s  19:55  \n2    3m 32s  21:04  \n3     4m 2s  16:30  \n4     3m 1s  20:19  ",
      "text/html": "<div>\n<style scoped>\n    .dataframe tbody tr th:only-of-type {\n        vertical-align: middle;\n    }\n\n    .dataframe tbody tr th {\n        vertical-align: top;\n    }\n\n    .dataframe thead th {\n        text-align: right;\n    }\n</style>\n<table border=\"1\" class=\"dataframe\">\n  <thead>\n    <tr style=\"text-align: right;\">\n      <th></th>\n      <th>Total time</th>\n      <th>Billable time</th>\n      <th>Validation</th>\n      <th>Provision</th>\n      <th>Setup-and-Run</th>\n      <th>Evaluation</th>\n      <th>Tear-down</th>\n      <th>Time</th>\n    </tr>\n  </thead>\n  <tbody>\n    <tr>\n      <th>0</th>\n      <td>23m 51s</td>\n      <td>28m</td>\n      <td>8s</td>\n      <td>2m 30s</td>\n      <td>17m 28s</td>\n      <td>30s</td>\n      <td>2m 20s</td>\n      <td>19:22</td>\n    </tr>\n    <tr>\n      <th>1</th>\n      <td>26m 39s</td>\n      <td>30m</td>\n      <td>7s</td>\n      <td>2m 28s</td>\n      <td>19m 45s</td>\n      <td>37s</td>\n      <td>2m 49s</td>\n      <td>19:55</td>\n    </tr>\n    <tr>\n      <th>2</th>\n      <td>17m 47s</td>\n      <td>22m</td>\n      <td>10s</td>\n      <td>2m 34s</td>\n      <td>9m 59s</td>\n      <td>35s</td>\n      <td>3m 32s</td>\n      <td>21:04</td>\n    </tr>\n    <tr>\n      <th>3</th>\n      <td>17m 24s</td>\n      <td>23m</td>\n      <td>4s</td>\n      <td>2m 18s</td>\n      <td>9m 14s</td>\n      <td>36s</td>\n      <td>4m 2s</td>\n      <td>16:30</td>\n    </tr>\n    <tr>\n      <th>4</th>\n      <td>15m 34s</td>\n      <td>20m</td>\n      <td>9s</td>\n      <td>2m 56s</td>\n      <td>7m 46s</td>\n      <td>29s</td>\n      <td>3m 1s</td>\n      <td>20:19</td>\n    </tr>\n  </tbody>\n</table>\n</div>"
     },
     "execution_count": 1,
     "metadata": {},
     "output_type": "execute_result"
    }
   ],
   "source": [
    "import pandas as pd\n",
    "import numpy as np\n",
    "data = pd.read_csv('./workflow_duration.csv', sep=';')\n",
    "data"
   ],
   "metadata": {
    "collapsed": false,
    "ExecuteTime": {
     "end_time": "2024-01-16T16:55:35.577821Z",
     "start_time": "2024-01-16T16:55:34.180956Z"
    }
   },
   "id": "955750a887d04c88"
  },
  {
   "cell_type": "code",
   "execution_count": 2,
   "outputs": [],
   "source": [
    "def convert_to_seconds(time_str):\n",
    "    minutes, seconds = 0, 0\n",
    "    if 'm' in time_str:\n",
    "        parts = time_str.split('m')\n",
    "        minutes = int(parts[0])\n",
    "        seconds = int(parts[1].strip('s'))\n",
    "    else:\n",
    "        seconds = int(time_str.strip('s'))\n",
    "    return minutes * 60 + seconds\n",
    "\n",
    "workflows = data[['Validation', 'Provision', 'Setup-and-Run', 'Evaluation', 'Tear-down']] \n",
    "workflows_in_sec = {workflow: [convert_to_seconds(time_str) for time_str in times] for workflow, times in workflows.items()}\n"
   ],
   "metadata": {
    "collapsed": false,
    "ExecuteTime": {
     "end_time": "2024-01-16T16:55:35.589072Z",
     "start_time": "2024-01-16T16:55:35.582209Z"
    }
   },
   "id": "7a14deb75c44ab9c"
  },
  {
   "cell_type": "code",
   "execution_count": 3,
   "outputs": [
    {
     "data": {
      "text/plain": "({'Validation': 7.6,\n  'Provision': 153.2,\n  'Setup-and-Run': 770.4,\n  'Evaluation': 33.4,\n  'Tear-down': 188.8},\n {'Validation': 2.3021728866442674,\n  'Provision': 14.042791745233567,\n  'Setup-and-Run': 323.1954517006698,\n  'Evaluation': 3.646916505762094,\n  'Tear-down': 39.378928375464966})"
     },
     "execution_count": 3,
     "metadata": {},
     "output_type": "execute_result"
    }
   ],
   "source": [
    "averages = {workflow: np.mean(times) for workflow, times in workflows_in_sec.items()}\n",
    "std_devs = {workflow: np.std(times, ddof=1) for workflow, times in workflows_in_sec.items()}\n",
    "averages, std_devs"
   ],
   "metadata": {
    "collapsed": false,
    "ExecuteTime": {
     "end_time": "2024-01-16T16:55:35.604295Z",
     "start_time": "2024-01-16T16:55:35.593306Z"
    }
   },
   "id": "fe0d7cfb2a6a03a4"
  },
  {
   "cell_type": "code",
   "execution_count": null,
   "outputs": [],
   "source": [],
   "metadata": {
    "collapsed": false
   },
   "id": "3a89ecb37c2e6b4b"
  }
 ],
 "metadata": {
  "kernelspec": {
   "display_name": "Python 3",
   "language": "python",
   "name": "python3"
  },
  "language_info": {
   "codemirror_mode": {
    "name": "ipython",
    "version": 2
   },
   "file_extension": ".py",
   "mimetype": "text/x-python",
   "name": "python",
   "nbconvert_exporter": "python",
   "pygments_lexer": "ipython2",
   "version": "2.7.6"
  }
 },
 "nbformat": 4,
 "nbformat_minor": 5
}
