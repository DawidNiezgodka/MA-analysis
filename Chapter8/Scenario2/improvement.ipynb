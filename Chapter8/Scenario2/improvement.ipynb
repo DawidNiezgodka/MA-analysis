{
 "cells": [
  {
   "cell_type": "code",
   "execution_count": 1,
   "id": "initial_id",
   "metadata": {
    "collapsed": true,
    "ExecuteTime": {
     "end_time": "2024-01-15T19:35:59.466573Z",
     "start_time": "2024-01-15T19:35:59.451532Z"
    }
   },
   "outputs": [
    {
     "data": {
      "text/plain": "(50.0, 28.583916083916083, 27.41367159971811, 78.2312925170068)"
     },
     "execution_count": 1,
     "metadata": {},
     "output_type": "execute_result"
    }
   ],
   "source": [
    "e2_throughput = 750\n",
    "n2_throughput = 1125\n",
    "e2_95th = 1144\n",
    "n2_95th = 817\n",
    "e2_99th = 1419\n",
    "n2_99th = 1030\n",
    "e2_med_lat = 147\n",
    "n2_med_lat = 32\n",
    "throughput_improvement = ((n2_throughput - e2_throughput) / e2_throughput) * 100\n",
    "latency_95th_improvement = ((e2_95th - n2_95th) / e2_95th) * 100\n",
    "latency_99th_improvement = ((e2_99th - n2_99th) / e2_99th) * 100\n",
    "median_latency_improvement = ((e2_med_lat - n2_med_lat) / e2_med_lat) * 100\n",
    "\n",
    "throughput_improvement, latency_95th_improvement, latency_99th_improvement, median_latency_improvement\n"
   ]
  },
  {
   "cell_type": "code",
   "execution_count": null,
   "outputs": [],
   "source": [],
   "metadata": {
    "collapsed": false
   },
   "id": "5589a714e9e14a1d"
  }
 ],
 "metadata": {
  "kernelspec": {
   "display_name": "Python 3",
   "language": "python",
   "name": "python3"
  },
  "language_info": {
   "codemirror_mode": {
    "name": "ipython",
    "version": 2
   },
   "file_extension": ".py",
   "mimetype": "text/x-python",
   "name": "python",
   "nbconvert_exporter": "python",
   "pygments_lexer": "ipython2",
   "version": "2.7.6"
  }
 },
 "nbformat": 4,
 "nbformat_minor": 5
}
