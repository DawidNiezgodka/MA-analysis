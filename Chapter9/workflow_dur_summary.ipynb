{
 "cells": [
  {
   "cell_type": "code",
   "execution_count": 10,
   "outputs": [],
   "source": [
    "data = {\n",
    "    \"S1\": {\n",
    "        \"Avg.Time\": {\"Validate\": 8, \"Provision\": 130, \"Setup-and-Run\": 896, \"Evaluate\": 35, \"Tear-down\": 215},\n",
    "        \"Std.Dev\": {\"Validate\": 3, \"Provision\": 16, \"Setup-and-Run\": 27, \"Evaluate\": 11, \"Tear-down\": 6}\n",
    "    },\n",
    "    \"S2\": {\n",
    "        \"Avg.Time\": {\"Validate\": 8, \"Provision\": 153, \"Setup-and-Run\": 770, \"Evaluate\": 33, \"Tear-down\": 199},\n",
    "        \"Std.Dev\": {\"Validate\": 2, \"Provision\": 14, \"Setup-and-Run\": 323, \"Evaluate\": 4, \"Tear-down\": 39}\n",
    "    },\n",
    "    \"S3MySQL\": {\n",
    "        \"Avg.Time\": {\"Validate\": 7, \"Provision\": 137, \"Setup-and-Run\": 352, \"Evaluate\": 34, \"Tear-down\": 140},\n",
    "        \"Std.Dev\": {\"Validate\": 1, \"Provision\": 20, \"Setup-and-Run\": 38, \"Evaluate\": 4, \"Tear-down\": 36}\n",
    "    },\n",
    "    \n",
    "    \"S3Mongo\": {\n",
    "        \"Avg.Time\": {\"Validate\": 6, \"Provision\": 152, \"Setup-and-Run\": 272, \"Evaluate\": 33, \"Tear-down\": 134},\n",
    "        \"Std.Dev\": {\"Validate\": 1, \"Provision\": 55, \"Setup-and-Run\": 19, \"Evaluate\": 6, \"Tear-down\": 22}\n",
    "    }\n",
    "\n",
    "}\n",
    "\n",
    "# init\n",
    "average_times = {step: 0 for step in data[\"S1\"][\"Avg.Time\"]}\n",
    "standard_deviations = {step: 0 for step in data[\"S1\"][\"Std.Dev\"]}\n"
   ],
   "metadata": {
    "collapsed": false,
    "ExecuteTime": {
     "end_time": "2024-01-16T19:45:16.651207Z",
     "start_time": "2024-01-16T19:45:16.642342Z"
    }
   },
   "id": "fefbf80a5245aa01"
  },
  {
   "cell_type": "code",
   "execution_count": 11,
   "outputs": [
    {
     "data": {
      "text/plain": "{'Validate': 0,\n 'Provision': 0,\n 'Setup-and-Run': 0,\n 'Evaluate': 0,\n 'Tear-down': 0}"
     },
     "execution_count": 11,
     "metadata": {},
     "output_type": "execute_result"
    }
   ],
   "source": [
    "standard_deviations"
   ],
   "metadata": {
    "collapsed": false,
    "ExecuteTime": {
     "end_time": "2024-01-16T19:45:17.281775Z",
     "start_time": "2024-01-16T19:45:17.274086Z"
    }
   },
   "id": "fc4f18232a5ad04"
  },
  {
   "cell_type": "code",
   "execution_count": 12,
   "outputs": [
    {
     "data": {
      "text/plain": "({'Validate': 7.25,\n  'Provision': 143.0,\n  'Setup-and-Run': 572.5,\n  'Evaluate': 33.75,\n  'Tear-down': 172.0},\n {'Validate': 1.75,\n  'Provision': 26.25,\n  'Setup-and-Run': 101.75,\n  'Evaluate': 6.25,\n  'Tear-down': 25.75})"
     },
     "execution_count": 12,
     "metadata": {},
     "output_type": "execute_result"
    }
   ],
   "source": [
    "for execution in data.values():\n",
    "    for step, time in execution[\"Avg.Time\"].items():\n",
    "        average_times[step] += time\n",
    "    for step, dev in execution[\"Std.Dev\"].items():\n",
    "        standard_deviations[step] += dev\n",
    "\n",
    "num_executions = len(data)\n",
    "overall_avg_times = {step: time / num_executions for step, time in average_times.items()}\n",
    "overall_std_devs = {step: dev / num_executions for step, dev in standard_deviations.items()}\n",
    "\n",
    "overall_avg_times, overall_std_devs"
   ],
   "metadata": {
    "collapsed": false,
    "ExecuteTime": {
     "end_time": "2024-01-16T19:45:18.994246Z",
     "start_time": "2024-01-16T19:45:18.988744Z"
    }
   },
   "id": "e22e365fa11099aa"
  },
  {
   "cell_type": "code",
   "execution_count": null,
   "outputs": [],
   "source": [],
   "metadata": {
    "collapsed": false
   },
   "id": "402ae3f956e52545"
  }
 ],
 "metadata": {
  "kernelspec": {
   "display_name": "Python 3",
   "language": "python",
   "name": "python3"
  },
  "language_info": {
   "codemirror_mode": {
    "name": "ipython",
    "version": 2
   },
   "file_extension": ".py",
   "mimetype": "text/x-python",
   "name": "python",
   "nbconvert_exporter": "python",
   "pygments_lexer": "ipython2",
   "version": "2.7.6"
  }
 },
 "nbformat": 4,
 "nbformat_minor": 5
}
