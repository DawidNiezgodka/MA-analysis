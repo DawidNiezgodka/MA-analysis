{
 "cells": [
  {
   "cell_type": "code",
   "execution_count": 5,
   "id": "initial_id",
   "metadata": {
    "collapsed": true,
    "ExecuteTime": {
     "end_time": "2024-01-13T13:56:59.847115Z",
     "start_time": "2024-01-13T13:56:59.670641Z"
    }
   },
   "outputs": [],
   "source": [
    "import pandas as pd\n",
    "\n",
    "latex_entries = [\n",
    "    \"\\\\cite{EC2} & 2009 & Virtual Machines & Amazon Web Service EC2 performance \\\\\",\n",
    "    \"\\\\cite{PubSubBench} & 2010 & Messaging System & ActiveMQ \\\\\",\n",
    "    \"\\\\cite{CloudServices} & 2011 & Virtual Machines & Amazon EC2, GoGrid, ElasticHosts, Mosso \\\\\",\n",
    "    \"\\\\cite{PatternsInChaos} & 2014 & Virtual Machines & Azure vs. EC2 \\\\\",\n",
    "    \"\\\\cite{HowDoIChooseTheRightNoSql} & 2014 & Database & HBase and Neo4J \\\\\",\n",
    "    \"\\\\cite{HBaseVsCassandra} & 2014 & Database & HBase and Cassandra \\\\\",\n",
    "    \"\\\\cite{WPress} & 2014 & Virtual Machines & Amazon EC2, Rackspace, Azure \\\\\",\n",
    "    \"\\\\cite{TLS} & 2014 & Database & TLS performance impact  \\\\\",\n",
    "    \"\\\\cite{DbCaseStudy} & 2015 & Database & Cassandra, Mongo, Riak \\\\\",\n",
    "    \"\\\\cite{HBase} & 2016 & Database & HBase \\\\\",\n",
    "    \"\\\\cite{MeetingReqsIoT} & 2016 & Messaging System & RabbitMQ, mosquitto, ZeroMQ \\\\\",\n",
    "    \"\\\\cite{StormFlinkSparkComp} & 2016 & Stream Processing & Storm, Flink, Spark \\\\\",\n",
    "    \"\\\\cite{KafkaVsRabbit} & 2017 & Messaging System & Kafka vs. RabbitMQ \\\\\",\n",
    "    \"\\\\cite{MessageBrokerQueues} & 2017 & Messaging System & Kafka vs. AMQP \\\\\",\n",
    "    \"\\\\cite{BenchFoundry} & 2017 & Database & General framework \\\\\",\n",
    "    \"\\\\cite{BenchDistributedStreamPro} & 2018 & Stream Processing & Spark, Flink \\\\\",\n",
    "    \"\\\\cite{PeekingBehindTheCurtains} & 2018 & Serverless & Azure, GCP, AWS \\\\\",\n",
    "    \"\\\\cite{IoT} & 2019 & Stream Processing & Storm, Spark, Flink \\\\\",\n",
    "    \"\\\\cite{Pandey2020} & 2020 & Database & MySQL vs. MongoDB \\\\\",\n",
    "    \"\\\\cite{Micro1} & 2020 & Microservices & Microservice benchmarking approach \\\\\",\n",
    "    \"\\\\cite{HowFastCanWeInsert} & 2020 & Messaging System & Apache Kafka \\\\\",\n",
    "    \"\\\\cite{TinyFaas} & 2020 & Serverless & TinyFaaS \\\\\",\n",
    "    \"\\\\cite{Serverlessbench} & 2020 & Serverless & Benchmarking suite \\\\\",\n",
    "    \"\\\\cite{PostgresVsMongo} & 2021 & Database & Postgres vs. Mongo \\\\\",\n",
    "    \"\\\\cite{BeFaaS} & 2021 & Serverless & General framework \\\\\",\n",
    "    \"\\\\cite{CallGraphs} & 2021 & Microservices & InfluxDB, VictoriaMetrics  \\\\\",\n",
    "    \"\\\\cite{ESPBench} & 2021 & Stream Processing & Flink, Spark, Hazelcast \\\\\",\n",
    "    \"\\\\cite{Theodolite} & 2021 & Stream Processing & Kafka Streams, Flink \\\\\",\n",
    "    \"\\\\cite{PulsarNATS} & 2022 & Messaging system & Pulsar vs. NATS \\\\\",\n",
    "    \"\\\\cite{SpringMicroQuarkus} & 2022 & Microservices & Spring Boot, Micronaut, Quarkus \\\\\"\n",
    "]\n",
    "\n",
    "\n"
   ]
  },
  {
   "cell_type": "code",
   "execution_count": 6,
   "outputs": [
    {
     "data": {
      "text/plain": "                         Ref  Year          Category  \\\n0                        EC2  2009  Virtual Machines   \n1                PubSubBench  2010  Messaging System   \n2              CloudServices  2011  Virtual Machines   \n3            PatternsInChaos  2014  Virtual Machines   \n4  HowDoIChooseTheRightNoSql  2014          Database   \n\n                                   Details  \n0       Amazon Web Service EC2 performance  \n1                                 ActiveMQ  \n2  Amazon EC2, GoGrid, ElasticHosts, Mosso  \n3                            Azure vs. EC2  \n4                          HBase and Neo4J  ",
      "text/html": "<div>\n<style scoped>\n    .dataframe tbody tr th:only-of-type {\n        vertical-align: middle;\n    }\n\n    .dataframe tbody tr th {\n        vertical-align: top;\n    }\n\n    .dataframe thead th {\n        text-align: right;\n    }\n</style>\n<table border=\"1\" class=\"dataframe\">\n  <thead>\n    <tr style=\"text-align: right;\">\n      <th></th>\n      <th>Ref</th>\n      <th>Year</th>\n      <th>Category</th>\n      <th>Details</th>\n    </tr>\n  </thead>\n  <tbody>\n    <tr>\n      <th>0</th>\n      <td>EC2</td>\n      <td>2009</td>\n      <td>Virtual Machines</td>\n      <td>Amazon Web Service EC2 performance</td>\n    </tr>\n    <tr>\n      <th>1</th>\n      <td>PubSubBench</td>\n      <td>2010</td>\n      <td>Messaging System</td>\n      <td>ActiveMQ</td>\n    </tr>\n    <tr>\n      <th>2</th>\n      <td>CloudServices</td>\n      <td>2011</td>\n      <td>Virtual Machines</td>\n      <td>Amazon EC2, GoGrid, ElasticHosts, Mosso</td>\n    </tr>\n    <tr>\n      <th>3</th>\n      <td>PatternsInChaos</td>\n      <td>2014</td>\n      <td>Virtual Machines</td>\n      <td>Azure vs. EC2</td>\n    </tr>\n    <tr>\n      <th>4</th>\n      <td>HowDoIChooseTheRightNoSql</td>\n      <td>2014</td>\n      <td>Database</td>\n      <td>HBase and Neo4J</td>\n    </tr>\n  </tbody>\n</table>\n</div>"
     },
     "execution_count": 6,
     "metadata": {},
     "output_type": "execute_result"
    }
   ],
   "source": [
    "df_data = []\n",
    "for entry in latex_entries:\n",
    "    parts = entry.split(\" & \")\n",
    "    if len(parts) != 4:\n",
    "        continue\n",
    "    ref = parts[0].replace(\"\\\\cite{\", \"\").replace(\"}\", \"\").strip()\n",
    "    try:\n",
    "        year = int(parts[1].strip())\n",
    "    except ValueError:\n",
    "        continue\n",
    "    category = parts[2].strip()\n",
    "    details = parts[3].replace(\"\\\\\", \"\").strip()\n",
    "    df_data.append({\"Ref\": ref, \"Year\": year, \"Category\": category, \"Details\": details})\n",
    "\n",
    "df = pd.DataFrame(df_data)\n",
    "df.head()\n"
   ],
   "metadata": {
    "collapsed": false,
    "ExecuteTime": {
     "end_time": "2024-01-13T13:57:01.430851Z",
     "start_time": "2024-01-13T13:57:01.379546Z"
    }
   },
   "id": "ac24f4f848861c77"
  },
  {
   "cell_type": "code",
   "execution_count": 7,
   "outputs": [],
   "source": [
    "\n",
    "deployment_mode = [\n",
    "    \"PC\", \"OP\", \"PC\", \"PC\", \"PC\",\n",
    "    \"OP\", \"PC\", \"PC\", \"PC\", \"PC\", \"PC\",\n",
    "    \"OP\", \"OP\", \"OP\", \"PC\",\n",
    "    \"OP\", \"PC\", \"OP\", \"mixed\",\n",
    "    \"PC\", \"OP\", \"mixed\", \"OP\", \"PC\",\n",
    "    \"PC\", \"PC\", \"OP\", \"OP\", \"OP\", \"OP\"\n",
    "\n",
    "]\n",
    "\n",
    "df['deployment_mode'] = deployment_mode"
   ],
   "metadata": {
    "collapsed": false,
    "ExecuteTime": {
     "end_time": "2024-01-13T13:57:04.950815Z",
     "start_time": "2024-01-13T13:57:04.942876Z"
    }
   },
   "id": "5eec731beb18d546"
  },
  {
   "cell_type": "code",
   "execution_count": 10,
   "outputs": [],
   "source": [
    "\n",
    "\n",
    "SUT = [\n",
    "    \"SN\", \"SN\", \"MN\", \"MN\", \"MN\",\n",
    "    \"MN\", \"SN\", \"MN\", \"MN\", \"MN\", \"SN\",\n",
    "    \"MN\", \"MN\", \"MN\", \"MN\",\n",
    "    \"MN\",\"SN\",\"MN\",\"SN\", \n",
    "    \"SN\",\"MN\",\"SN\",\"SN\",\"MN\",\n",
    "    \"SN\",\"SN\",\"MN\",\"MN\",\"MN\",\"SN\"\n",
    "]\n",
    "\n",
    "df['SUT'] = SUT"
   ],
   "metadata": {
    "collapsed": false,
    "ExecuteTime": {
     "end_time": "2024-01-13T14:24:42.936650Z",
     "start_time": "2024-01-13T14:24:42.888900Z"
    }
   },
   "id": "81dc047615edd48b"
  },
  {
   "cell_type": "code",
   "execution_count": 19,
   "outputs": [],
   "source": [
    "# single config - mulitple systems -> 1\n",
    "# single config - single system -> 4\n",
    "# multiple config - single system -> 2\n",
    "# multiple config - multiple systems -> 3\n",
    "# not applicable -> 0\n",
    "\n",
    "config = [\n",
    "    \"2\", \"2\", \"3\", \"3\", \"1\",\n",
    "    \"3\", \"1\", \"3\", \"3\", \"2\", \"1\",\n",
    "    \"1\", \"1\", \"1\", \"0\",\n",
    "    \"3\", \"3\", \"3\", \"1\",\n",
    "    \"4\", \"2\", \"1\", \"1\", \"3\",\n",
    "    \"0\", \"4\", \"2\", \"2\", \"1\", \"1\"\n",
    "]\n",
    "\n",
    "df['cfg'] = config"
   ],
   "metadata": {
    "collapsed": false,
    "ExecuteTime": {
     "end_time": "2024-01-13T16:20:37.614067Z",
     "start_time": "2024-01-13T16:20:37.609902Z"
    }
   },
   "id": "da7f623a5c5033be"
  },
  {
   "cell_type": "code",
   "execution_count": 18,
   "outputs": [],
   "source": [
    "preload = [\n",
    "    \"yes\", \"no\", \"no\", \"no\",\"yes\",\n",
    "    \"yes\", \"no\", \"no\", \"yes\", \"yes\", \"no\",\n",
    "    \"no\", \"no\", \"no\", \"yes\",\n",
    "    \"yes\", \"yes\", \"yes\", \"no\",\n",
    "    \"yes\", \"yes\", \"no\", \"no\", \"yes\",\n",
    "    \"no\", \"yes\", \"no\", \"yes\", \"no\", \"yes\"\n",
    "\n",
    "]\n",
    "\n",
    "df['preload'] = preload"
   ],
   "metadata": {
    "collapsed": false,
    "ExecuteTime": {
     "end_time": "2024-01-13T16:20:35.693288Z",
     "start_time": "2024-01-13T16:20:35.683230Z"
    }
   },
   "id": "b0034efe370e3f8a"
  },
  {
   "cell_type": "code",
   "execution_count": 17,
   "outputs": [],
   "source": [
    "programming_lang = [\n",
    "    \"java\", \"java\", \"C++\", \"java\", \"java\",\n",
    "    \"java\", \"java\", \"java\", \"java\", \"java\", \"C\",\n",
    "    \"java\", \"java\", \"java\", \"java\",\n",
    "    \"java\", \"java\", \"multiple\", \"java\",\n",
    "    \"java\", \"scala\", \"js/go\", \"multiple\", \"java\",\n",
    "    \"js\", \"java\", \"java\", \"java\", \"java\", \"java\"\n",
    "\n",
    "]\n",
    "\n",
    "df['prog_lang'] = programming_lang"
   ],
   "metadata": {
    "collapsed": false,
    "ExecuteTime": {
     "end_time": "2024-01-13T16:20:29.673247Z",
     "start_time": "2024-01-13T16:20:29.618945Z"
    }
   },
   "id": "e17c6472a6b63ee0"
  },
  {
   "cell_type": "code",
   "execution_count": 31,
   "outputs": [],
   "source": [
    "metric = [\n",
    "    \"complex\", \"simple\", \"complex\", \"complex\", \"simple\",\n",
    "    \"simple\", \"complex\", \"simple\", \"simple\", \"simple\", \"simple\",\n",
    "    \"simple\", \"simple\", \"complex\", \"-\",\n",
    "    \"complex\", \"complex\", \"simple\", \"simple\",\n",
    "    \"complex\", \"simple\", \"simple\", \"complex\", \"simple\",\n",
    "    \"simple\", \"complex\", \"complex\", \"complex\", \"simple\", \"simple\"\n",
    "\n",
    "]\n",
    "\n",
    "concrete_mtrc = [\n",
    "    [\"perf_stab\", \"perf_homog\"], [\"cpu_util\", \"latency\"], [\"res_alloc\", \"res_real\"], [\"perf_var\"], [\"lat\", \"thro\"],\n",
    "    [\"lat\", \"thro\"], [\"wpress\"], [\"lat\", \"thro\"], [\"lat\", \"thro\"],[\"lat\", \"thro\"],[\"lat\", \"thro\"],\n",
    "    [\"lat\", \"lat_fail\"], [\"lat\", \"thro\"], [\"scal\"],[\"\"],\n",
    "    [\"scal\", \"diff_lat\"], [\"res_util\", \"perf_isol\"],\n",
    "]\n",
    "\n",
    "df['metric'] = metric"
   ],
   "metadata": {
    "collapsed": false,
    "ExecuteTime": {
     "end_time": "2024-01-13T16:30:30.732185Z",
     "start_time": "2024-01-13T16:30:30.719288Z"
    }
   },
   "id": "c110a075d295004a"
  },
  {
   "cell_type": "code",
   "execution_count": 11,
   "outputs": [],
   "source": [
    "r = {\n",
    "    \"EC2\": ['SN', 'F', 'S', 'e', 'c,m,v'],\n",
    "    \"PubSubBench\": ['MN', 'F', 'T', 'c', 'v'],\n",
    "    \"CloudServices\": ['MN', 'F', 'T', 'e', 'm,c'],\n",
    "    \"PatternsInChaos\": ['SN', 'F', 'T', 'e', 'v,r'],\n",
    "    \"HowDoIChooseTheRightNoSql\": ['SN', 'F', 'S', 'c', 'v'],\n",
    "    \"HBaseVsCassandra\": ['MN', 'F', 'S', 'c', 'v,r'],\n",
    "    \"WPress\": ['MN', 'T', 'S', 'e', 'v, r'],\n",
    "    \"TLS\": ['SN', 'T', 'S', 'e', 'v, r'],\n",
    "    \"DbCaseStudy\": ['MN', 'F', 'S', 'e', 'v'],\n",
    "    \"HBase\": ['MN', 'F', 'S', 'e', 'r,v'],\n",
    "    \n",
    "    \"MeetingReqsIoT\": ['MN', 'F', 'S', 'c', 'v'],\n",
    "    'StormFlinkSparkComp': ['MN', 'F', 'T', 'c', 'v'],\n",
    "    'KafkaVsRabbit': ['SN', 'F', 'C', 'c', 'v, m, c'],\n",
    "    'MessageBrokerQueues': ['MN', 'F', 'C', 'c', 'v, r'],\n",
    "    'BenchFoundry': ['MN', 'F', 'T', 'c', 'v'],\n",
    "    'BenchDistributedStreamPro': ['MN', 'F', 'S', 'e', 'v,r'],\n",
    "    'PeekingBehindTheCurtains': ['SN', 'F', 'T', 'e', 'v'],\n",
    "    'IoT': ['SN', 'T', 'T', 'c', 'v,r'],\n",
    "    'Pandey2020': ['SN', 'F', 'S', 'c', 'v'],\n",
    "    'Micro1': ['SN', 'F', 't', 'e', 'v'],\n",
    "    \n",
    "    'HowFastCanWeInsert': ['MN', 'T', 'c', 'e', 'v'],\n",
    "    'TinyFaas': ['SN', 'F', 'c', 'c', 'v'],\n",
    "    'Serverlessbench': ['SN', 'F', 't', 'c', 'v,c'],\n",
    "    'PostgresVsMongo': ['SN', 'F', 'S', 'c', 'v'],\n",
    "    'BeFaaS': ['SN', 'F', 't', 'e', 'v'],\n",
    "    'CallGraphs': ['SN', 'F', 't', 'e', 'v'],\n",
    "    'ESPBench': ['MN', 'T', 'T', 'c', 'v, c'],\n",
    "    'Theodolite': ['MN', 'T', 'T', 'e', 'v, r'],\n",
    "    'PulsarNATS': ['SN', 'F', 'C', 'c', 'v'],\n",
    "    'SpringMicroQuarkus': ['SN', 'F', 't', 'e', 'v']\n",
    "    \n",
    "    \n",
    "    \n",
    "}"
   ],
   "metadata": {
    "collapsed": false,
    "ExecuteTime": {
     "end_time": "2024-01-13T16:07:36.826976Z",
     "start_time": "2024-01-13T16:07:36.300638Z"
    }
   },
   "id": "fa545da26be78338"
  },
  {
   "cell_type": "code",
   "execution_count": 12,
   "outputs": [],
   "source": [
    "\n",
    "WG = []\n",
    "ED = []\n",
    "workload = []\n",
    "data_analysis = []\n",
    "com_res = []\n",
    "\n",
    "for key, values in r.items():\n",
    "    WG.append(values[0])\n",
    "    ED.append(values[1])\n",
    "    workload.append(values[2])\n",
    "    data_analysis.append(values[3])\n",
    "    com_res.append(values[4])\n",
    "\n"
   ],
   "metadata": {
    "collapsed": false,
    "ExecuteTime": {
     "end_time": "2024-01-13T16:19:22.245890Z",
     "start_time": "2024-01-13T16:19:22.227220Z"
    }
   },
   "id": "162a0f31ed32c72a"
  },
  {
   "cell_type": "code",
   "execution_count": 14,
   "outputs": [],
   "source": [
    "df['WG'] = WG\n",
    "df['ED'] = ED\n",
    "df['workload'] = workload\n",
    "df['data_analysis'] = data_analysis\n",
    "df['com_res'] = com_res"
   ],
   "metadata": {
    "collapsed": false,
    "ExecuteTime": {
     "end_time": "2024-01-13T16:19:39.747111Z",
     "start_time": "2024-01-13T16:19:39.740175Z"
    }
   },
   "id": "9f28e3d1b6a4c044"
  },
  {
   "cell_type": "code",
   "execution_count": 20,
   "outputs": [
    {
     "data": {
      "text/plain": "             Ref  Year          Category  \\\n0            EC2  2009  Virtual Machines   \n1    PubSubBench  2010  Messaging System   \n2  CloudServices  2011  Virtual Machines   \n\n                                   Details deployment_mode SUT  WG ED  \\\n0       Amazon Web Service EC2 performance              PC  SN  SN  F   \n1                                 ActiveMQ              OP  SN  MN  F   \n2  Amazon EC2, GoGrid, ElasticHosts, Mosso              PC  MN  MN  F   \n\n  workload data_analysis com_res prog_lang preload cfg  \n0        S             e   c,m,v      java     yes   2  \n1        T             c       v      java      no   2  \n2        T             e     m,c       C++      no   3  ",
      "text/html": "<div>\n<style scoped>\n    .dataframe tbody tr th:only-of-type {\n        vertical-align: middle;\n    }\n\n    .dataframe tbody tr th {\n        vertical-align: top;\n    }\n\n    .dataframe thead th {\n        text-align: right;\n    }\n</style>\n<table border=\"1\" class=\"dataframe\">\n  <thead>\n    <tr style=\"text-align: right;\">\n      <th></th>\n      <th>Ref</th>\n      <th>Year</th>\n      <th>Category</th>\n      <th>Details</th>\n      <th>deployment_mode</th>\n      <th>SUT</th>\n      <th>WG</th>\n      <th>ED</th>\n      <th>workload</th>\n      <th>data_analysis</th>\n      <th>com_res</th>\n      <th>prog_lang</th>\n      <th>preload</th>\n      <th>cfg</th>\n    </tr>\n  </thead>\n  <tbody>\n    <tr>\n      <th>0</th>\n      <td>EC2</td>\n      <td>2009</td>\n      <td>Virtual Machines</td>\n      <td>Amazon Web Service EC2 performance</td>\n      <td>PC</td>\n      <td>SN</td>\n      <td>SN</td>\n      <td>F</td>\n      <td>S</td>\n      <td>e</td>\n      <td>c,m,v</td>\n      <td>java</td>\n      <td>yes</td>\n      <td>2</td>\n    </tr>\n    <tr>\n      <th>1</th>\n      <td>PubSubBench</td>\n      <td>2010</td>\n      <td>Messaging System</td>\n      <td>ActiveMQ</td>\n      <td>OP</td>\n      <td>SN</td>\n      <td>MN</td>\n      <td>F</td>\n      <td>T</td>\n      <td>c</td>\n      <td>v</td>\n      <td>java</td>\n      <td>no</td>\n      <td>2</td>\n    </tr>\n    <tr>\n      <th>2</th>\n      <td>CloudServices</td>\n      <td>2011</td>\n      <td>Virtual Machines</td>\n      <td>Amazon EC2, GoGrid, ElasticHosts, Mosso</td>\n      <td>PC</td>\n      <td>MN</td>\n      <td>MN</td>\n      <td>F</td>\n      <td>T</td>\n      <td>e</td>\n      <td>m,c</td>\n      <td>C++</td>\n      <td>no</td>\n      <td>3</td>\n    </tr>\n  </tbody>\n</table>\n</div>"
     },
     "execution_count": 20,
     "metadata": {},
     "output_type": "execute_result"
    }
   ],
   "source": [
    "df.head(3)"
   ],
   "metadata": {
    "collapsed": false,
    "ExecuteTime": {
     "end_time": "2024-01-13T16:20:52.240648Z",
     "start_time": "2024-01-13T16:20:52.216020Z"
    }
   },
   "id": "3230fbb92ed320f8"
  },
  {
   "cell_type": "code",
   "execution_count": 21,
   "outputs": [
    {
     "data": {
      "text/plain": "Index(['Ref', 'Year', 'Category', 'Details', 'deployment_mode', 'SUT', 'WG',\n       'ED', 'workload', 'data_analysis', 'com_res', 'prog_lang', 'preload',\n       'cfg'],\n      dtype='object')"
     },
     "execution_count": 21,
     "metadata": {},
     "output_type": "execute_result"
    }
   ],
   "source": [
    "df.columns"
   ],
   "metadata": {
    "collapsed": false,
    "ExecuteTime": {
     "end_time": "2024-01-13T16:22:29.085161Z",
     "start_time": "2024-01-13T16:22:29.060001Z"
    }
   },
   "id": "e3b55ad6baa5e28b"
  },
  {
   "cell_type": "code",
   "execution_count": 23,
   "outputs": [
    {
     "data": {
      "text/plain": "PC       50.000000\nOP       43.333333\nmixed     6.666667\nName: deployment_mode, dtype: float64"
     },
     "execution_count": 23,
     "metadata": {},
     "output_type": "execute_result"
    }
   ],
   "source": [
    "df['deployment_mode'].value_counts(normalize=True) * 100\n"
   ],
   "metadata": {
    "collapsed": false,
    "ExecuteTime": {
     "end_time": "2024-01-13T16:23:31.297278Z",
     "start_time": "2024-01-13T16:23:31.276772Z"
    }
   },
   "id": "6824c5f82a47cf36"
  },
  {
   "cell_type": "code",
   "execution_count": 24,
   "outputs": [
    {
     "data": {
      "text/plain": "MN    60.0\nSN    40.0\nName: SUT, dtype: float64"
     },
     "execution_count": 24,
     "metadata": {},
     "output_type": "execute_result"
    }
   ],
   "source": [
    "df['SUT'].value_counts(normalize=True) * 100"
   ],
   "metadata": {
    "collapsed": false,
    "ExecuteTime": {
     "end_time": "2024-01-13T16:24:30.269282Z",
     "start_time": "2024-01-13T16:24:30.235941Z"
    }
   },
   "id": "d928c86899a02d48"
  },
  {
   "cell_type": "code",
   "execution_count": 25,
   "outputs": [
    {
     "data": {
      "text/plain": "SN    53.333333\nMN    46.666667\nName: WG, dtype: float64"
     },
     "execution_count": 25,
     "metadata": {},
     "output_type": "execute_result"
    }
   ],
   "source": [
    "df['WG'].value_counts(normalize=True) * 100"
   ],
   "metadata": {
    "collapsed": false,
    "ExecuteTime": {
     "end_time": "2024-01-13T16:27:44.784533Z",
     "start_time": "2024-01-13T16:27:44.749290Z"
    }
   },
   "id": "6c0658988140590b"
  },
  {
   "cell_type": "code",
   "execution_count": 26,
   "outputs": [
    {
     "data": {
      "text/plain": "F    80.0\nT    20.0\nName: ED, dtype: float64"
     },
     "execution_count": 26,
     "metadata": {},
     "output_type": "execute_result"
    }
   ],
   "source": [
    "df['ED'].value_counts(normalize=True) * 100"
   ],
   "metadata": {
    "collapsed": false,
    "ExecuteTime": {
     "end_time": "2024-01-13T16:27:54.804425Z",
     "start_time": "2024-01-13T16:27:54.780038Z"
    }
   },
   "id": "e8ae578d9ab34e62"
  },
  {
   "cell_type": "code",
   "execution_count": 27,
   "outputs": [
    {
     "data": {
      "text/plain": "1    36.666667\n3    30.000000\n2    20.000000\n0     6.666667\n4     6.666667\nName: cfg, dtype: float64"
     },
     "execution_count": 27,
     "metadata": {},
     "output_type": "execute_result"
    }
   ],
   "source": [
    "df['cfg'].value_counts(normalize=True) * 100"
   ],
   "metadata": {
    "collapsed": false,
    "ExecuteTime": {
     "end_time": "2024-01-13T16:28:17.980956Z",
     "start_time": "2024-01-13T16:28:17.943623Z"
    }
   },
   "id": "89b83d5bdb43c6bb"
  },
  {
   "cell_type": "code",
   "execution_count": 28,
   "outputs": [
    {
     "data": {
      "text/plain": "yes    50.0\nno     50.0\nName: preload, dtype: float64"
     },
     "execution_count": 28,
     "metadata": {},
     "output_type": "execute_result"
    }
   ],
   "source": [
    "df['preload'].value_counts(normalize=True) * 100\n"
   ],
   "metadata": {
    "collapsed": false,
    "ExecuteTime": {
     "end_time": "2024-01-13T16:28:40.915642Z",
     "start_time": "2024-01-13T16:28:40.887571Z"
    }
   },
   "id": "f422f26ad52553a3"
  },
  {
   "cell_type": "code",
   "execution_count": 29,
   "outputs": [
    {
     "data": {
      "text/plain": "S    36.666667\nT    30.000000\nt    16.666667\nC    10.000000\nc     6.666667\nName: workload, dtype: float64"
     },
     "execution_count": 29,
     "metadata": {},
     "output_type": "execute_result"
    }
   ],
   "source": [
    "df['workload'].value_counts(normalize=True) * 100\n"
   ],
   "metadata": {
    "collapsed": false,
    "ExecuteTime": {
     "end_time": "2024-01-13T16:28:58.160528Z",
     "start_time": "2024-01-13T16:28:58.131006Z"
    }
   },
   "id": "936450d5bf97384a"
  },
  {
   "cell_type": "code",
   "execution_count": 30,
   "outputs": [
    {
     "data": {
      "text/plain": "java        76.666667\nmultiple     6.666667\nC++          3.333333\nC            3.333333\nscala        3.333333\njs/go        3.333333\njs           3.333333\nName: prog_lang, dtype: float64"
     },
     "execution_count": 30,
     "metadata": {},
     "output_type": "execute_result"
    }
   ],
   "source": [
    "df['prog_lang'].value_counts(normalize=True) * 100"
   ],
   "metadata": {
    "collapsed": false,
    "ExecuteTime": {
     "end_time": "2024-01-13T16:29:55.304476Z",
     "start_time": "2024-01-13T16:29:55.262632Z"
    }
   },
   "id": "38a2740d71bbf776"
  },
  {
   "cell_type": "code",
   "execution_count": 32,
   "outputs": [
    {
     "data": {
      "text/plain": "simple     56.666667\ncomplex    40.000000\n-           3.333333\nName: metric, dtype: float64"
     },
     "execution_count": 32,
     "metadata": {},
     "output_type": "execute_result"
    }
   ],
   "source": [
    "df['metric'].value_counts(normalize=True) * 100"
   ],
   "metadata": {
    "collapsed": false,
    "ExecuteTime": {
     "end_time": "2024-01-13T16:30:37.030805Z",
     "start_time": "2024-01-13T16:30:37.007830Z"
    }
   },
   "id": "95e1cc7e68003bbf"
  },
  {
   "cell_type": "code",
   "execution_count": 33,
   "outputs": [
    {
     "data": {
      "text/plain": "e    50.0\nc    50.0\nName: data_analysis, dtype: float64"
     },
     "execution_count": 33,
     "metadata": {},
     "output_type": "execute_result"
    }
   ],
   "source": [
    "df['data_analysis'].value_counts(normalize=True) * 100"
   ],
   "metadata": {
    "collapsed": false,
    "ExecuteTime": {
     "end_time": "2024-01-13T16:30:51.434174Z",
     "start_time": "2024-01-13T16:30:51.408766Z"
    }
   },
   "id": "ce14db4446eb0acd"
  },
  {
   "cell_type": "code",
   "execution_count": 34,
   "outputs": [
    {
     "data": {
      "text/plain": "v          53.333333\nv,r        13.333333\nv, r       13.333333\nc,m,v       3.333333\nm,c         3.333333\nr,v         3.333333\nv, m, c     3.333333\nv,c         3.333333\nv, c        3.333333\nName: com_res, dtype: float64"
     },
     "execution_count": 34,
     "metadata": {},
     "output_type": "execute_result"
    }
   ],
   "source": [
    "df['com_res'].value_counts(normalize=True) * 100"
   ],
   "metadata": {
    "collapsed": false,
    "ExecuteTime": {
     "end_time": "2024-01-13T16:31:26.247336Z",
     "start_time": "2024-01-13T16:31:26.218346Z"
    }
   },
   "id": "2b5123041aae1769"
  },
  {
   "cell_type": "code",
   "execution_count": null,
   "outputs": [],
   "source": [],
   "metadata": {
    "collapsed": false
   },
   "id": "8ded35dc13a985e7"
  }
 ],
 "metadata": {
  "kernelspec": {
   "display_name": "Python 3",
   "language": "python",
   "name": "python3"
  },
  "language_info": {
   "codemirror_mode": {
    "name": "ipython",
    "version": 2
   },
   "file_extension": ".py",
   "mimetype": "text/x-python",
   "name": "python",
   "nbconvert_exporter": "python",
   "pygments_lexer": "ipython2",
   "version": "2.7.6"
  }
 },
 "nbformat": 4,
 "nbformat_minor": 5
}
